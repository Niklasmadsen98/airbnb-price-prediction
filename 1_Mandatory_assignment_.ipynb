{
  "nbformat": 4,
  "nbformat_minor": 0,
  "metadata": {
    "kernelspec": {
      "display_name": "Python 3",
      "language": "python",
      "name": "python3"
    },
    "language_info": {
      "codemirror_mode": {
        "name": "ipython",
        "version": 3
      },
      "file_extension": ".py",
      "mimetype": "text/x-python",
      "name": "python",
      "nbconvert_exporter": "python",
      "pygments_lexer": "ipython3",
      "version": "3.8.3"
    },
    "colab": {
      "name": "1. Mandatory assignment .ipynb",
      "provenance": [],
      "include_colab_link": true
    }
  },
  "cells": [
    {
      "cell_type": "markdown",
      "metadata": {
        "id": "view-in-github",
        "colab_type": "text"
      },
      "source": [
        "<a href=\"https://colab.research.google.com/github/Niklasmadsen98/airbnb-price-prediction/blob/main/1_Mandatory_assignment_.ipynb\" target=\"_parent\"><img src=\"https://colab.research.google.com/assets/colab-badge.svg\" alt=\"Open In Colab\"/></a>"
      ]
    },
    {
      "cell_type": "code",
      "metadata": {
        "id": "i_nHw7fWWvoQ"
      },
      "source": [
        ""
      ],
      "execution_count": null,
      "outputs": []
    },
    {
      "cell_type": "code",
      "metadata": {
        "id": "hO8oEchqWvoR"
      },
      "source": [
        "import pandas as pd\n",
        "import numpy as np"
      ],
      "execution_count": null,
      "outputs": []
    },
    {
      "cell_type": "markdown",
      "metadata": {
        "id": "hwgXQVYHWvoS"
      },
      "source": [
        "## Question 1:"
      ]
    },
    {
      "cell_type": "markdown",
      "metadata": {
        "id": "L6ZTfKo2WvoT"
      },
      "source": [
        "* Question a) Write a for loop to compute the sum of all numbers below 1000 that are a multiple of either 3 or\n",
        "5."
      ]
    },
    {
      "cell_type": "code",
      "metadata": {
        "scrolled": true,
        "id": "1DiR8_oXWvoU",
        "outputId": "d0e8b06d-91a5-41a0-fcbb-14c484256dc7"
      },
      "source": [
        "the_sum = 0 # \n",
        "for i in range(1000):\n",
        "    if i % 3 == 0 or i % 5 == 0:\n",
        "        #print(i)#this is the multiples - not really neseccary to print in this case \n",
        "        the_sum += i \n",
        "print(\"The sum of multiples below 1000 is:\", the_sum)\n",
        "# the % symbol returns the remainder of dividing the left hand operand by right hand operand."
      ],
      "execution_count": null,
      "outputs": [
        {
          "name": "stdout",
          "output_type": "stream",
          "text": [
            "The sum of multiples below 1000 is: 233168\n"
          ]
        }
      ]
    },
    {
      "cell_type": "code",
      "metadata": {
        "id": "ta9KAunsWvoV",
        "outputId": "4bab7575-2259-43ff-de95-e56e71c6828f"
      },
      "source": [
        "## Could also be written this way (or in many other ways )\n",
        "max_num = 1000 # number is 10000 for the question.\n",
        "final_sum = 0\n",
        "for i in range(max_num):\n",
        "    if (i % 3) == 0:\n",
        "        final_sum += i\n",
        "    elif (i % 5) == 0:\n",
        "        final_sum += i\n",
        "print(\"The sum of multiples below 1000 is:\", final_sum)"
      ],
      "execution_count": null,
      "outputs": [
        {
          "name": "stdout",
          "output_type": "stream",
          "text": [
            "The sum of multiples below 1000 is: 233168\n"
          ]
        }
      ]
    },
    {
      "cell_type": "code",
      "metadata": {
        "id": "lWEwJiTFWvoV"
      },
      "source": [
        "def total_sum(n): \n",
        "    _sum = 0\n",
        "    i=1\n",
        "    while i < n:\n",
        "        if i % 3 == 0:\n",
        "            _sum += i\n",
        "        elif i % 5 == 0:\n",
        "            _sum += i\n",
        "    print(\"The sum of multiples below 1000 is:\", _sum)"
      ],
      "execution_count": null,
      "outputs": []
    },
    {
      "cell_type": "code",
      "metadata": {
        "id": "fskxUOPCWvoW"
      },
      "source": [
        "total_sum(1000)"
      ],
      "execution_count": null,
      "outputs": []
    },
    {
      "cell_type": "code",
      "metadata": {
        "id": "ZR1sFg-BWvoW"
      },
      "source": [
        ""
      ],
      "execution_count": null,
      "outputs": []
    },
    {
      "cell_type": "markdown",
      "metadata": {
        "id": "stALcNobWvoX"
      },
      "source": [
        "## Question 2:"
      ]
    },
    {
      "cell_type": "markdown",
      "metadata": {
        "id": "o2nZnu_dWvoX"
      },
      "source": [
        "We create a for loop to calculate the max product. \n",
        "First we define \"largest_product\" = 0 \n",
        "Then we do the for loop: we calculate the product for every 4 integers. If the product is larger than the previous one we have a new largest product, if it is not larger, we \"keep\" the old one. "
      ]
    },
    {
      "cell_type": "code",
      "metadata": {
        "id": "013XhgNpWvoX"
      },
      "source": [
        "hundred_digit_str= (\n",
        "                    \"731671765313306249192251\"\\\n",
        "                    \"196744265747423553491949349\"\\\n",
        "                    \"6983520312774506326239578318\"\\\n",
        "                    \"016984801869478851843\"\\\n",
        "                   )"
      ],
      "execution_count": null,
      "outputs": []
    },
    {
      "cell_type": "code",
      "metadata": {
        "id": "sRh-XvJxWvoY",
        "outputId": "a4c49792-c002-4d60-f97e-7ee7c756197d"
      },
      "source": [
        "hundred_digit_number = int( hundred_digit_str )\n",
        "print(hundred_digit_number)"
      ],
      "execution_count": null,
      "outputs": [
        {
          "name": "stdout",
          "output_type": "stream",
          "text": [
            "7316717653133062491922511967442657474235534919493496983520312774506326239578318016984801869478851843\n"
          ]
        }
      ]
    },
    {
      "cell_type": "code",
      "metadata": {
        "id": "bMex4mhPWvoY",
        "outputId": "6328c1d4-8d33-4326-bb6c-7afcea3fe824"
      },
      "source": [
        "inp=62646236952\n",
        "inp_list=[int(x) for x in str(inp)] # creating a list so that we can loop through the numbers\n",
        "print(inp_list)"
      ],
      "execution_count": null,
      "outputs": [
        {
          "name": "stdout",
          "output_type": "stream",
          "text": [
            "[6, 2, 6, 4, 6, 2, 3, 6, 9, 5, 2]\n"
          ]
        }
      ]
    },
    {
      "cell_type": "code",
      "metadata": {
        "id": "_sa4jVboWvoY"
      },
      "source": [
        ""
      ],
      "execution_count": null,
      "outputs": []
    },
    {
      "cell_type": "code",
      "metadata": {
        "id": "urJf4fHmWvoZ",
        "outputId": "97434ec3-f238-447e-c893-6ae7b19dc18e"
      },
      "source": [
        "for i in range(len(inp_list)-3): # We use -3 as we want to calculate largest product of 4 consecutive numbers \n",
        "    inp_slice=inp_list[i:(i+4)]\n",
        "    print(inp_slice, end=\"\\t\") # just for more spacing\n",
        "    result=np.product(inp_slice)\n",
        "    print(\"Product:\" + str(result))"
      ],
      "execution_count": null,
      "outputs": [
        {
          "name": "stdout",
          "output_type": "stream",
          "text": [
            "[6, 2, 6, 4]\tProduct:288\n",
            "[2, 6, 4, 6]\tProduct:288\n",
            "[6, 4, 6, 2]\tProduct:288\n",
            "[4, 6, 2, 3]\tProduct:144\n",
            "[6, 2, 3, 6]\tProduct:216\n",
            "[2, 3, 6, 9]\tProduct:324\n",
            "[3, 6, 9, 5]\tProduct:810\n",
            "[6, 9, 5, 2]\tProduct:540\n"
          ]
        }
      ]
    },
    {
      "cell_type": "code",
      "metadata": {
        "id": "bLDKjW1iWvoZ",
        "outputId": "cae2fa7b-4e8e-4ff4-fd44-6b8a0ee2fdc2"
      },
      "source": [
        "best_result=0 # we know that we want something higher than 0 - could also be -infinity (np.inf)\n",
        "for i in range(len(inp_list)-3): # We use -3 as we want to calculate largest product of 4 consecutive numbers \n",
        "    inp_slice=inp_list[i:(i+4)]\n",
        "    print(inp_slice, end=\"\\t\") # just for more spacing\n",
        "    result=np.product(inp_slice)\n",
        "    print(\"Product:\" + str(result))\n",
        "    if result > best_result:\n",
        "        best_result=result # if result is higher than best_result then we want that as our new best result \n",
        "        print(\"We are updating best result to the value of:\")\n",
        "        print(best_result)"
      ],
      "execution_count": null,
      "outputs": [
        {
          "name": "stdout",
          "output_type": "stream",
          "text": [
            "[6, 2, 6, 4]\tProduct:288\n",
            "We are updating best result to the value of:\n",
            "288\n",
            "[2, 6, 4, 6]\tProduct:288\n",
            "[6, 4, 6, 2]\tProduct:288\n",
            "[4, 6, 2, 3]\tProduct:144\n",
            "[6, 2, 3, 6]\tProduct:216\n",
            "[2, 3, 6, 9]\tProduct:324\n",
            "We are updating best result to the value of:\n",
            "324\n",
            "[3, 6, 9, 5]\tProduct:810\n",
            "We are updating best result to the value of:\n",
            "810\n",
            "[6, 9, 5, 2]\tProduct:540\n"
          ]
        }
      ]
    },
    {
      "cell_type": "code",
      "metadata": {
        "id": "PfxskM7AWvoZ"
      },
      "source": [
        "# Function to find the largest product of 4 consecutive numbers \n",
        "def find_biggest_4(inp):\n",
        "    #we assume that inp is an int \n",
        "    inp_list = [int(x) for x in str(inp)]\n",
        "    #Initiating best result\n",
        "    best_result=0\n",
        "    \n",
        "    for i in range(len(inp_list)-3):\n",
        "        inp_slice = inp_list[i:(i+4)]\n",
        "        result=np.product(inp_slice)\n",
        "        if result > best_result:\n",
        "            best_result = result\n",
        "    \n",
        "    return(best_result)"
      ],
      "execution_count": null,
      "outputs": []
    },
    {
      "cell_type": "code",
      "metadata": {
        "id": "mYphE4DRWvoa",
        "outputId": "fceb0428-d0a4-4b1a-b13b-b5c040d6888d"
      },
      "source": [
        "# Test scenarios \n",
        "print(find_biggest_4(3636272784))\n",
        "print(find_biggest_4(463734))\n",
        "print(find_biggest_4(47475775392234))"
      ],
      "execution_count": null,
      "outputs": [
        {
          "name": "stdout",
          "output_type": "stream",
          "text": [
            "784\n",
            "504\n",
            "1715\n"
          ]
        }
      ]
    },
    {
      "cell_type": "code",
      "metadata": {
        "id": "nhL898edWvoa",
        "outputId": "66fc9924-4f8a-42cf-e622-cb72d2be9780"
      },
      "source": [
        "# The solution to question 2\n",
        "print(\"The largest product is:\", find_biggest_4(hundred_digit_number))"
      ],
      "execution_count": null,
      "outputs": [
        {
          "name": "stdout",
          "output_type": "stream",
          "text": [
            "The largest product is: 3888\n"
          ]
        }
      ]
    },
    {
      "cell_type": "code",
      "metadata": {
        "id": "izBNkFM9Wvob"
      },
      "source": [
        ""
      ],
      "execution_count": null,
      "outputs": []
    },
    {
      "cell_type": "markdown",
      "metadata": {
        "id": "IWf_5f7qWvob"
      },
      "source": [
        "## Question 3"
      ]
    },
    {
      "cell_type": "code",
      "metadata": {
        "id": "etl8bEb-Wvob"
      },
      "source": [
        ""
      ],
      "execution_count": null,
      "outputs": []
    },
    {
      "cell_type": "code",
      "metadata": {
        "id": "r4imcm2aWvob"
      },
      "source": [
        "list_01 = [1 ,2 ,3 ,4 ,5 ,6 ,7 ,8 ,9]"
      ],
      "execution_count": 1,
      "outputs": []
    },
    {
      "cell_type": "code",
      "metadata": {
        "id": "qvjG5wZ3Wvoc"
      },
      "source": [
        "def split_list(_list):\n",
        "    even_list = [] #creating empty lists (to be filled)\n",
        "    odd_list = []\n",
        "    for i in _list:\n",
        "        if (i % 2 == 0):\n",
        "            even_list.append(i)\n",
        "        else:\n",
        "            odd_list.append(i)\n",
        "    print(\"Even lists:\", even_list)\n",
        "    print(\"Odd lists:\", odd_list)"
      ],
      "execution_count": 2,
      "outputs": []
    },
    {
      "cell_type": "code",
      "metadata": {
        "colab": {
          "base_uri": "https://localhost:8080/"
        },
        "id": "EKq0Mog0Wvoc",
        "outputId": "b4c9e573-250b-4404-9d17-961a938d030c"
      },
      "source": [
        "split_list(list_01)"
      ],
      "execution_count": 3,
      "outputs": [
        {
          "output_type": "stream",
          "name": "stdout",
          "text": [
            "Even lists: [2, 4, 6, 8]\n",
            "Odd lists: [1, 3, 5, 7, 9]\n"
          ]
        }
      ]
    },
    {
      "cell_type": "code",
      "metadata": {
        "id": "MrOoeULCWvoc"
      },
      "source": [
        ""
      ],
      "execution_count": 3,
      "outputs": []
    },
    {
      "cell_type": "markdown",
      "metadata": {
        "id": "PPmc7v3bWvoc"
      },
      "source": [
        "## Question 4:"
      ]
    },
    {
      "cell_type": "code",
      "metadata": {
        "id": "Duw06A3eWvod"
      },
      "source": [
        ""
      ],
      "execution_count": null,
      "outputs": []
    },
    {
      "cell_type": "code",
      "metadata": {
        "id": "rVmVELfIWvod"
      },
      "source": [
        "# Reversing using a loop - not the solution. \n",
        "def reverse(s):\n",
        "    str = \"\"\n",
        "    for i in s:\n",
        "        str = i + str\n",
        "    return str"
      ],
      "execution_count": null,
      "outputs": []
    },
    {
      "cell_type": "markdown",
      "metadata": {
        "id": "6aas1n2bWvod"
      },
      "source": [
        "Recursive call is made on the substring of s starting from the second element (e.g S[1:] gives you s without the first element). It is then appending the result of the recursive call to the first character of s, e.g. s[0] In the function, the base condition is that if the length of the string is equal to 0, the string is returned. If not equal to 0, the reverse function is recursively called to slice the part of the string except the first character and concatenate the first character to the end of the sliced string."
      ]
    },
    {
      "cell_type": "code",
      "metadata": {
        "id": "W4haw3pxWvod"
      },
      "source": [
        ""
      ],
      "execution_count": null,
      "outputs": []
    },
    {
      "cell_type": "code",
      "metadata": {
        "id": "-zjJzA5XWvoe",
        "outputId": "d7ffcf46-e7ab-4679-8f08-513de0adb3c0"
      },
      "source": [
        "input_string=\"copenhagen\"\n",
        "reverse(input_string)"
      ],
      "execution_count": null,
      "outputs": [
        {
          "data": {
            "text/plain": [
              "'negahnepoc'"
            ]
          },
          "execution_count": 14,
          "metadata": {},
          "output_type": "execute_result"
        }
      ]
    },
    {
      "cell_type": "code",
      "metadata": {
        "id": "39VxOE3mWvoe"
      },
      "source": [
        "def reverse(s):\n",
        "    if len(s) == 0:\n",
        "        return s\n",
        "    else:\n",
        "        return reverse(s[1:]) + s[0]"
      ],
      "execution_count": null,
      "outputs": []
    },
    {
      "cell_type": "markdown",
      "metadata": {
        "id": "OFyxpuvDWvoe"
      },
      "source": [
        "How this code works is that: when we call the function\n",
        "* reverse('abc') #s = abc\n",
        "* reverse('bc') + 'a' #s[1:] = bc s[0] = a\n",
        "* reverse('c') + 'b' + 'a' #s[1:] = c s[0] = a\n",
        "* reverse('') + 'c' + 'b' + 'a'\n",
        "* cba'"
      ]
    },
    {
      "cell_type": "code",
      "metadata": {
        "id": "NJqyGg2dWvoe",
        "outputId": "8f60ce97-f4c2-4546-c15d-30dee3df8e25"
      },
      "source": [
        "reverse(input_string)"
      ],
      "execution_count": null,
      "outputs": [
        {
          "data": {
            "text/plain": [
              "'negahnepoc'"
            ]
          },
          "execution_count": 16,
          "metadata": {},
          "output_type": "execute_result"
        }
      ]
    },
    {
      "cell_type": "markdown",
      "metadata": {
        "id": "7I3SxylVWvof"
      },
      "source": [
        "## Question 5:"
      ]
    },
    {
      "cell_type": "code",
      "metadata": {
        "id": "1EJ3nJlAWvof"
      },
      "source": [
        "long_string = \"ccgatcahctatttaaaaccctatcatastadfa\"\n",
        "target_word = \"cat\""
      ],
      "execution_count": null,
      "outputs": []
    },
    {
      "cell_type": "code",
      "metadata": {
        "id": "L-GGyP57Wvof",
        "outputId": "c425e9b2-c61c-4a01-f318-b961ade9ba4c"
      },
      "source": [
        "#testing if word is in string. \n",
        "if target_word in long_string: \n",
        "    print(\"the word is in the long string\")"
      ],
      "execution_count": null,
      "outputs": [
        {
          "name": "stdout",
          "output_type": "stream",
          "text": [
            "the word is in the long string\n"
          ]
        }
      ]
    },
    {
      "cell_type": "code",
      "metadata": {
        "id": "fXrcyKCoWvog",
        "outputId": "a665d4c7-52cb-4e39-ffc4-1a6e43352763"
      },
      "source": [
        "# Not our solution - can also be performed using re\n",
        "import re \n",
        "s=\"ccgatcahctatttaaaaccctatcatastadfa\"\n",
        "sub_string=\"cat\"\n",
        "\n",
        "new_list = [x for x in sub_string]\n",
        "\n",
        "print(new_list)\n",
        "\n",
        "sub_string_count=[]\n",
        "for val in new_list:\n",
        "\n",
        "    count = len(re.findall(val, s)) \n",
        "\n",
        "    sub_string_count.append(count)\n",
        "\n",
        "print(\"word\",sub_string,\" can be formed\",min(sub_string_count),\"times\")  "
      ],
      "execution_count": null,
      "outputs": [
        {
          "name": "stdout",
          "output_type": "stream",
          "text": [
            "['c', 'a', 't']\n",
            "word cat  can be formed 8 times\n"
          ]
        }
      ]
    },
    {
      "cell_type": "code",
      "metadata": {
        "id": "PxB9S-SuWvog",
        "outputId": "c72a59f7-bcc1-43d5-c8e2-9de26e0ba3f3"
      },
      "source": [
        "string_input = 'ccgatcahctatttaaaaccctatcatastadfa'\n",
        "substring = 'cat'\n",
        "string_list = [] # Creating an empty list to store the results \n",
        "for i in substring:\n",
        "    string_list.append(string_input.count(i)) # counting how many times each character appears in the string \n",
        "\n",
        "print(substring[0], \"appears\", string_list[0], \"times\", substring[1], \"appears\", string_list[1], \"times\",\"and\",\n",
        "     substring[2], \"appears\", string_list[2], \"times.\", \"Hence, the word:\", substring, \"can be formed\", min(string_list)\n",
        "     , \"times\")"
      ],
      "execution_count": null,
      "outputs": [
        {
          "name": "stdout",
          "output_type": "stream",
          "text": [
            "c appears 8 times a appears 12 times and t appears 9 times. Hence, the word: cat can be formed 8 times\n"
          ]
        }
      ]
    },
    {
      "cell_type": "code",
      "metadata": {
        "id": "bEFIk_vPWvog"
      },
      "source": [
        "def count_word(string_input, sub_string):\n",
        "    string_list = []\n",
        "    if len(string_input)> 0:\n",
        "\n",
        "        for character in sub_string: \n",
        "            string_list.append(string_input.count(character))\n",
        "    return min(string_list)"
      ],
      "execution_count": null,
      "outputs": []
    },
    {
      "cell_type": "code",
      "metadata": {
        "id": "vNrB7RDoWvoh"
      },
      "source": [
        "test_case_input = \"wearelookingforwordsinthisstring\"\n",
        "test_case_word = \"string\""
      ],
      "execution_count": null,
      "outputs": []
    },
    {
      "cell_type": "code",
      "metadata": {
        "id": "moWRNPbsWvoh",
        "outputId": "89bc198a-8d59-46d3-a461-d64fbeeeff48"
      },
      "source": [
        "print(\"The word\", test_case_word, \"appears:\", count_word(test_case_input,test_case_word), \"times in the string\")"
      ],
      "execution_count": null,
      "outputs": [
        {
          "name": "stdout",
          "output_type": "stream",
          "text": [
            "The word string appears: 2 times in the string\n"
          ]
        }
      ]
    },
    {
      "cell_type": "markdown",
      "metadata": {
        "id": "Z07tO7IIWvoh"
      },
      "source": [
        "## Question 6: "
      ]
    },
    {
      "cell_type": "code",
      "metadata": {
        "id": "x6TWdsccWvoh"
      },
      "source": [
        "#string_to_parse = \"Copenhagen hosted Cop-09 summit at Bella Centre in 2009, which was attended by delegates from more than 100 countries.\" \n",
        "string_to_parse = \"Copenhagen hosted Cop -09 summit \" \\\n",
        "\" at Bella Centre in 2009 , which \" \\\n",
        "\" was attended by delegates from \" \\\n",
        "\" more than 100 countries .\"\n",
        "separator = '_'"
      ],
      "execution_count": null,
      "outputs": []
    },
    {
      "cell_type": "markdown",
      "metadata": {
        "id": "W-uJWsF4Wvoi"
      },
      "source": [
        "So we need to split the string when we meet \"-\" and any integers. "
      ]
    },
    {
      "cell_type": "code",
      "metadata": {
        "id": "TsLmVQ-8Wvoi"
      },
      "source": [
        "def separate(string, separator):\n",
        "    words = []\n",
        "    nums = []\n",
        "    \"\"\"\n",
        "    for char in string:\n",
        "        if char in \"-,\":\n",
        "            string = str(string.split())\n",
        "            #string = string.split() \n",
        "            \n",
        "    \"\"\"\n",
        "    string=re.sub('(\\d+(\\.\\d+)?)', r' \\1 ', string)\n",
        "    \n",
        "                \n",
        "    for word in string: \n",
        "        if word.isnumeric():\n",
        "            nums.append(word)\n",
        "            string = string.replace(word, separator, 1)\n",
        "        else:\n",
        "            words.append(word)\n",
        "\n",
        "    return \"\".join(map(lambda s: s if s.isalpha() or s == separator else \"\", \"\".join(string.split(\" \")))), separator.join(nums)"
      ],
      "execution_count": null,
      "outputs": []
    },
    {
      "cell_type": "code",
      "metadata": {
        "id": "dKlN8YVkWvoi"
      },
      "source": [
        "new_string=re.sub(\"[^0-9a-zA-Z]\",        # Anything except 0..9, a..z and A..Z\n",
        "       \"\",                    # replaced with nothing\n",
        "       string_to_parse) # The string we want to use regex on "
      ],
      "execution_count": null,
      "outputs": []
    },
    {
      "cell_type": "code",
      "metadata": {
        "id": "QucWCqz0Wvoi",
        "outputId": "484fee18-65c4-4fac-8f01-77fd5b5cb722"
      },
      "source": [
        "new_string"
      ],
      "execution_count": null,
      "outputs": [
        {
          "data": {
            "text/plain": [
              "'CopenhagenhostedCop09summitatBellaCentrein2009whichwasattendedbydelegatesfrommorethan100countries'"
            ]
          },
          "execution_count": 176,
          "metadata": {},
          "output_type": "execute_result"
        }
      ]
    },
    {
      "cell_type": "code",
      "metadata": {
        "id": "x_HeT9bzWvoj"
      },
      "source": [
        "test= re.findall(r'\\d',string_to_parse)"
      ],
      "execution_count": null,
      "outputs": []
    },
    {
      "cell_type": "code",
      "metadata": {
        "id": "Y_PjuQ69Wvoj",
        "outputId": "b0c7306d-d7ae-46db-c3f7-21bfb76a2f6b"
      },
      "source": [
        "test"
      ],
      "execution_count": null,
      "outputs": [
        {
          "data": {
            "text/plain": [
              "['0', '9', '2', '0', '0', '9', '1', '0', '0']"
            ]
          },
          "execution_count": 220,
          "metadata": {},
          "output_type": "execute_result"
        }
      ]
    },
    {
      "cell_type": "code",
      "metadata": {
        "id": "Ypc39qHVWvoj",
        "outputId": "e1401092-9f7c-4d20-bf6b-d3d8a60c03a6"
      },
      "source": [
        "x = string_to_parse\n",
        "s = re.findall('[0-9]',x)\n",
        "print(s)\n",
        "c = re.findall('[a-z/A-Z]',x)\n",
        "print(c)"
      ],
      "execution_count": null,
      "outputs": [
        {
          "name": "stdout",
          "output_type": "stream",
          "text": [
            "['0', '9', '2', '0', '0', '9', '1', '0', '0']\n",
            "['C', 'o', 'p', 'e', 'n', 'h', 'a', 'g', 'e', 'n', 'h', 'o', 's', 't', 'e', 'd', 'C', 'o', 'p', 's', 'u', 'm', 'm', 'i', 't', 'a', 't', 'B', 'e', 'l', 'l', 'a', 'C', 'e', 'n', 't', 'r', 'e', 'i', 'n', 'w', 'h', 'i', 'c', 'h', 'w', 'a', 's', 'a', 't', 't', 'e', 'n', 'd', 'e', 'd', 'b', 'y', 'd', 'e', 'l', 'e', 'g', 'a', 't', 'e', 's', 'f', 'r', 'o', 'm', 'm', 'o', 'r', 'e', 't', 'h', 'a', 'n', 'c', 'o', 'u', 'n', 't', 'r', 'i', 'e', 's']\n"
          ]
        }
      ]
    },
    {
      "cell_type": "code",
      "metadata": {
        "id": "H0Y3NkveWvoj",
        "outputId": "232ed95e-8eed-4428-86be-df68da37d60c"
      },
      "source": [
        "words = []\n",
        "nums = []\n",
        "for word in new_string:\n",
        "    if word.isnumeric():\n",
        "        nums = word\n",
        "        print(nums)\n",
        "    else: \n",
        "        words = word"
      ],
      "execution_count": null,
      "outputs": [
        {
          "name": "stdout",
          "output_type": "stream",
          "text": [
            "0\n",
            "9\n",
            "2\n",
            "0\n",
            "0\n",
            "9\n",
            "1\n",
            "0\n",
            "0\n"
          ]
        }
      ]
    },
    {
      "cell_type": "code",
      "metadata": {
        "id": "t9ThU9xMWvok",
        "outputId": "342a13f4-3262-4aa6-960e-9aae0f3c13b6"
      },
      "source": [
        "nums"
      ],
      "execution_count": null,
      "outputs": [
        {
          "data": {
            "text/plain": [
              "'0'"
            ]
          },
          "execution_count": 212,
          "metadata": {},
          "output_type": "execute_result"
        }
      ]
    },
    {
      "cell_type": "code",
      "metadata": {
        "id": "A63Xu6TUWvok",
        "outputId": "603f12ab-f63a-4e66-f1b2-f5564bd193aa"
      },
      "source": [
        "words"
      ],
      "execution_count": null,
      "outputs": [
        {
          "data": {
            "text/plain": [
              "'s'"
            ]
          },
          "execution_count": 207,
          "metadata": {},
          "output_type": "execute_result"
        }
      ]
    },
    {
      "cell_type": "code",
      "metadata": {
        "id": "4RT2WgyaWvok",
        "outputId": "350d77e8-f4b2-467e-c531-b55a1666c074"
      },
      "source": [
        "myIntList = [x for x in new_string if isinstance(x, int)]\n",
        "myIntList"
      ],
      "execution_count": null,
      "outputs": [
        {
          "data": {
            "text/plain": [
              "[]"
            ]
          },
          "execution_count": 216,
          "metadata": {},
          "output_type": "execute_result"
        }
      ]
    },
    {
      "cell_type": "code",
      "metadata": {
        "id": "qcoUe9mAWvol"
      },
      "source": [
        "words = []\n",
        "nums = []\n",
        "for char in string_to_parse:\n",
        "    if char in \"-,\":\n",
        "        string = str(string_to_parse.split())"
      ],
      "execution_count": null,
      "outputs": []
    },
    {
      "cell_type": "code",
      "metadata": {
        "id": "6JahCbTmWvol",
        "outputId": "eef4fe8a-f63e-493f-9d1d-0e4db6fb5e36"
      },
      "source": [
        "res = re.sub('(\\d+(\\.\\d+)?)', r' \\1 ', string_to_parse)\n",
        "res"
      ],
      "execution_count": null,
      "outputs": [
        {
          "data": {
            "text/plain": [
              "'Copenhagen hosted Cop- 09  summit at Bella Centre in  2009 , which was attended by delegates from more than  100  countries.'"
            ]
          },
          "execution_count": 164,
          "metadata": {},
          "output_type": "execute_result"
        }
      ]
    },
    {
      "cell_type": "code",
      "metadata": {
        "id": "R2AwXE2wWvol",
        "outputId": "b8ae84d5-7b7e-4702-f4fe-d55e1deebca1"
      },
      "source": [
        "r=res.split()\n",
        "r"
      ],
      "execution_count": null,
      "outputs": [
        {
          "data": {
            "text/plain": [
              "['Copenhagen',\n",
              " 'hosted',\n",
              " 'Cop-',\n",
              " '09',\n",
              " 'summit',\n",
              " 'at',\n",
              " 'Bella',\n",
              " 'Centre',\n",
              " 'in',\n",
              " '2009',\n",
              " ',',\n",
              " 'which',\n",
              " 'was',\n",
              " 'attended',\n",
              " 'by',\n",
              " 'delegates',\n",
              " 'from',\n",
              " 'more',\n",
              " 'than',\n",
              " '100',\n",
              " 'countries.']"
            ]
          },
          "execution_count": 170,
          "metadata": {},
          "output_type": "execute_result"
        }
      ]
    },
    {
      "cell_type": "code",
      "metadata": {
        "id": "6xLvYdfdWvol",
        "outputId": "2735e10e-0930-4770-c9c5-5e834a78e1a1"
      },
      "source": [
        "words = []\n",
        "nums = []\n",
        "\n",
        "for word in r: \n",
        "    if word.isdigit():\n",
        "        nums.append(word)\n",
        "        string1 = r.replace(word, separator)\n",
        "    else:\n",
        "        words.append(word)"
      ],
      "execution_count": null,
      "outputs": [
        {
          "ename": "AttributeError",
          "evalue": "'list' object has no attribute 'replace'",
          "output_type": "error",
          "traceback": [
            "\u001b[0;31m---------------------------------------------------------------------------\u001b[0m",
            "\u001b[0;31mAttributeError\u001b[0m                            Traceback (most recent call last)",
            "\u001b[0;32m<ipython-input-171-1907dad3181c>\u001b[0m in \u001b[0;36m<module>\u001b[0;34m\u001b[0m\n\u001b[1;32m      5\u001b[0m     \u001b[0;32mif\u001b[0m \u001b[0mword\u001b[0m\u001b[0;34m.\u001b[0m\u001b[0misdigit\u001b[0m\u001b[0;34m(\u001b[0m\u001b[0;34m)\u001b[0m\u001b[0;34m:\u001b[0m\u001b[0;34m\u001b[0m\u001b[0;34m\u001b[0m\u001b[0m\n\u001b[1;32m      6\u001b[0m         \u001b[0mnums\u001b[0m\u001b[0;34m.\u001b[0m\u001b[0mappend\u001b[0m\u001b[0;34m(\u001b[0m\u001b[0mword\u001b[0m\u001b[0;34m)\u001b[0m\u001b[0;34m\u001b[0m\u001b[0;34m\u001b[0m\u001b[0m\n\u001b[0;32m----> 7\u001b[0;31m         \u001b[0mstring1\u001b[0m \u001b[0;34m=\u001b[0m \u001b[0mr\u001b[0m\u001b[0;34m.\u001b[0m\u001b[0mreplace\u001b[0m\u001b[0;34m(\u001b[0m\u001b[0mword\u001b[0m\u001b[0;34m,\u001b[0m \u001b[0mseparator\u001b[0m\u001b[0;34m)\u001b[0m\u001b[0;34m\u001b[0m\u001b[0;34m\u001b[0m\u001b[0m\n\u001b[0m\u001b[1;32m      8\u001b[0m     \u001b[0;32melse\u001b[0m\u001b[0;34m:\u001b[0m\u001b[0;34m\u001b[0m\u001b[0;34m\u001b[0m\u001b[0m\n\u001b[1;32m      9\u001b[0m         \u001b[0mwords\u001b[0m\u001b[0;34m.\u001b[0m\u001b[0mappend\u001b[0m\u001b[0;34m(\u001b[0m\u001b[0mword\u001b[0m\u001b[0;34m)\u001b[0m\u001b[0;34m\u001b[0m\u001b[0;34m\u001b[0m\u001b[0m\n",
            "\u001b[0;31mAttributeError\u001b[0m: 'list' object has no attribute 'replace'"
          ]
        }
      ]
    },
    {
      "cell_type": "code",
      "metadata": {
        "id": "o8X5eE89Wvom",
        "outputId": "a6e90f72-a6ae-49b6-829c-f7aeeec7d05c"
      },
      "source": [
        "nums"
      ],
      "execution_count": null,
      "outputs": [
        {
          "data": {
            "text/plain": [
              "['0', '9', '2', '0', '0', '9', '1', '0', '0']"
            ]
          },
          "execution_count": 169,
          "metadata": {},
          "output_type": "execute_result"
        }
      ]
    },
    {
      "cell_type": "code",
      "metadata": {
        "id": "lQYLL1BWWvom",
        "outputId": "76391a1c-3172-436f-ee40-18e7bef88f1c"
      },
      "source": [
        "string1"
      ],
      "execution_count": null,
      "outputs": [
        {
          "data": {
            "text/plain": [
              "'Copenhagen hosted Cop- _9  summit at Bella Centre in  2__9 , which was attended by delegates from more than  1__  countries.'"
            ]
          },
          "execution_count": 167,
          "metadata": {},
          "output_type": "execute_result"
        }
      ]
    },
    {
      "cell_type": "code",
      "metadata": {
        "id": "Mczz6baMWvom",
        "outputId": "6fb0419a-57ce-4bee-bfae-4bf0b47d57b4"
      },
      "source": [
        "separate(string_to_parse,separator)"
      ],
      "execution_count": null,
      "outputs": [
        {
          "data": {
            "text/plain": [
              "('CopenhagenhostedCop__summitatBellaCentrein____whichwasattendedbydelegatesfrommorethan___countries',\n",
              " '0_9_2_0_0_9_1_0_0')"
            ]
          },
          "execution_count": 139,
          "metadata": {},
          "output_type": "execute_result"
        }
      ]
    },
    {
      "cell_type": "code",
      "metadata": {
        "id": "YtMJKnMuWvom"
      },
      "source": [
        "ss=\"-09\""
      ],
      "execution_count": null,
      "outputs": []
    },
    {
      "cell_type": "code",
      "metadata": {
        "id": "MiRq3s_QWvon",
        "outputId": "fd418e25-f72a-4576-f64c-05d0bc2bc3e9"
      },
      "source": [
        "for i in ss.split():\n",
        "        if i.isnumeric():\n",
        "            print(\"Yes\")\n",
        "        else: \n",
        "            print(\"no_\")"
      ],
      "execution_count": null,
      "outputs": [
        {
          "name": "stdout",
          "output_type": "stream",
          "text": [
            "no_\n"
          ]
        }
      ]
    },
    {
      "cell_type": "code",
      "metadata": {
        "id": "qEY2GRTvWvon"
      },
      "source": [
        ""
      ],
      "execution_count": null,
      "outputs": []
    }
  ]
}